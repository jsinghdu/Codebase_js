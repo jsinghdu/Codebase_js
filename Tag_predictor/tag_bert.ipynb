{
 "cells": [
  {
   "cell_type": "code",
   "execution_count": 1,
   "metadata": {},
   "outputs": [],
   "source": [
    "import torch\n",
    "from transformers import BertTokenizer, BertForSequenceClassification\n",
    "from torch.utils.data import TensorDataset, DataLoader, RandomSampler, SequentialSampler\n",
    "from transformers import AdamW, get_linear_schedule_with_warmup\n",
    "from torch.nn.utils import clip_grad_norm_\n",
    "from sklearn.model_selection import train_test_split\n",
    "import pandas as pd\n",
    "import numpy as np\n",
    "from tqdm.notebook import tqdm\n",
    "\n",
    "\n",
    "# compute metrics\n",
    "from sklearn.metrics import confusion_matrix\n",
    "from sklearn.metrics import classification_report\n",
    "from sklearn import metrics\n"
   ]
  },
  {
   "cell_type": "code",
   "execution_count": 2,
   "metadata": {},
   "outputs": [],
   "source": [
    "tax=pd.read_csv(\"/home/azureuser/cloudfiles/code/Users/rishabh.chanana.adm/AutoTagging/Active Data Sources/x_snc_taxonomy_sys_map_new.csv\")\n",
    "end_val=tax['ending_node'].to_list()\n",
    "path=tax['path'].to_list()\n",
    "path=list(map(lambda st:st.split('.'), path))\n",
    "tax_path=dict(zip(end_val, path))"
   ]
  },
  {
   "cell_type": "code",
   "execution_count": 3,
   "metadata": {},
   "outputs": [],
   "source": [
    "kb_data=pd.read_parquet('/home/azureuser/cloudfiles/code/Users/rishabh.chanana.adm/AutoTagging/Active Data Sources/public_customer_kbs.parquet', engine='pyarrow')"
   ]
  },
  {
   "cell_type": "code",
   "execution_count": 4,
   "metadata": {},
   "outputs": [],
   "source": [
    "kb_data = kb_data.rename(columns={'NUMBER': 'number', 'SHORT_DESCRIPTION': 'desc', 'TEXT':'text'})"
   ]
  },
  {
   "cell_type": "code",
   "execution_count": 5,
   "metadata": {},
   "outputs": [],
   "source": [
    "kb_data=kb_data[['number','desc','text']]"
   ]
  },
  {
   "cell_type": "code",
   "execution_count": 6,
   "metadata": {},
   "outputs": [],
   "source": [
    "# def read_all_child_tables_for_kb_knowledge():\n",
    "\n",
    "#     knowledge = pd.read_csv(\"/home/azureuser/cloudfiles/code/Users/rishabh.chanana.adm/AutoTagging/Active Data Sources/5000internal/csvs/kb_knowledge.csv\")\n",
    "#     knowledge['kb_desc'] = knowledge['text'].apply(utils.pii_scrubber)\n",
    "#     knowledge['kb_desc'] = knowledge['kb_desc'].apply(utils.html_cleanup)\n",
    "#     knowledge['kb_desc'] = knowledge['kb_desc'].apply(utils.scrub_words)\n",
    "\n",
    "#     to_for_cs = pd.read_csv(\"/home/azureuser/cloudfiles/code/Users/rishabh.chanana.adm/AutoTagging/Active Data Sources/5000internal/csvs/u_kb_template_kcs_how_to_for_cs.csv\")\n",
    "#     to_for_cs=to_for_cs.fillna(' ')\n",
    "#     cols=list(to_for_cs)\n",
    "#     cols.remove('number')\n",
    "#     to_for_cs['combined']=to_for_cs[cols].apply(lambda row: ' '.join(row.values.astype(str)), axis=1)\n",
    "#     to_for_cs['kb_desc'] = to_for_cs['combined'].apply(utils.html_cleanup)\n",
    "#     to_for_cs['kb_desc'] = to_for_cs['kb_desc'].apply(utils.scrub_words)\n",
    "#     to_for_cs['kb_desc'] = to_for_cs['kb_desc'].apply(utils.pii_scrubber)\n",
    "\n",
    "\n",
    "\n",
    "#     solution_for_cs = pd.read_csv(\"/home/azureuser/cloudfiles/code/Users/rishabh.chanana.adm/AutoTagging/Active Data Sources/5000internal/csvs/u_kb_template_kcs_solution_for_cs.csv\")\n",
    "#     solution_for_cs=solution_for_cs.fillna(' ')\n",
    "#     cols=list(solution_for_cs)\n",
    "#     cols.remove('number')\n",
    "#     solution_for_cs['combined']=solution_for_cs[cols].apply(lambda row: ' '.join(row.values.astype(str)), axis=1)\n",
    "#     solution_for_cs['kb_desc'] = solution_for_cs['combined'].apply(utils.html_cleanup)\n",
    "#     solution_for_cs['kb_desc'] = solution_for_cs['kb_desc'].apply(utils.scrub_words)\n",
    "#     solution_for_cs['kb_desc'] = solution_for_cs['kb_desc'].apply(utils.pii_scrubber)\n",
    "\n",
    "\n",
    "\n",
    "#     what_is_for_cs = pd.read_csv(\"/home/azureuser/cloudfiles/code/Users/rishabh.chanana.adm/AutoTagging/Active Data Sources/5000internal/csvs/u_kb_template_kcs_what_is_for_cs.csv\")\n",
    "#     what_is_for_cs=what_is_for_cs.fillna(' ')\n",
    "#     cols=list(what_is_for_cs)\n",
    "#     cols.remove('number')\n",
    "#     what_is_for_cs['combined']=what_is_for_cs[cols].apply(lambda row: ' '.join(row.values.astype(str)), axis=1)\n",
    "#     what_is_for_cs['kb_desc'] = what_is_for_cs['combined'].apply(utils.html_cleanup)\n",
    "#     what_is_for_cs['kb_desc'] = what_is_for_cs['kb_desc'].apply(utils.scrub_words)\n",
    "#     what_is_for_cs['kb_desc'] = what_is_for_cs['kb_desc'].apply(utils.pii_scrubber)\n",
    "\n",
    "   \n",
    "\n",
    "#     return(to_for_cs, solution_for_cs, what_is_for_cs,knowledge)\n",
    "# to_for_cs, solution_for_cs, what_is_for_cs, knowledge = read_all_child_tables_for_kb_knowledge()\n"
   ]
  },
  {
   "cell_type": "code",
   "execution_count": 7,
   "metadata": {},
   "outputs": [],
   "source": [
    "# to_for_cs=to_for_cs[['number','kb_desc']]\n",
    "# solution_for_cs=solution_for_cs[['number','kb_desc']]\n",
    "# what_is_for_cs=what_is_for_cs[['number','kb_desc']]\n",
    "# knowledge=knowledge[['number','kb_desc']]\n",
    "# combined=pd.concat([to_for_cs,solution_for_cs,what_is_for_cs,knowledge], ignore_index=True)\n",
    "# multi_path=pd.read_csv(\"/home/azureuser/cloudfiles/code/Users/rishabh.chanana.adm/AutoTagging/Active Data Sources/5000internal/kb_5000_multi_path.csv\",usecols = ['number','testfield','meta_description','short_description'])\n",
    "# no_path=pd.read_csv(\"/home/azureuser/cloudfiles/code/Users/rishabh.chanana.adm/AutoTagging/Active Data Sources/5000internal/kb_5000_no_path.csv\",usecols = ['number','meta_description','short_description'])\n",
    "# no_product=pd.read_csv(\"/home/azureuser/cloudfiles/code/Users/rishabh.chanana.adm/AutoTagging/Active Data Sources/5000internal/kb_5000_noproduct.csv\",usecols = ['number','meta_description','short_description'])\n",
    "# no_path=pd.concat([no_path,no_product], ignore_index=True)\n",
    "# multi_path=multi_path.merge(combined, on='number', how='left')\n",
    "# no_path=no_path.merge(combined, on='number', how='left')\n",
    "# multi_path[multi_path['kb_desc']=='nan']\n",
    "\n",
    "\n"
   ]
  },
  {
   "cell_type": "code",
   "execution_count": 8,
   "metadata": {},
   "outputs": [],
   "source": [
    "allkbmeta1=pd.read_csv(\"/home/azureuser/cloudfiles/code/Users/rishabh.chanana.adm/AutoTagging/Active Data Sources/TaaS/allkbs_meta1.csv\")\n",
    "allkbmeta2=pd.read_csv(\"/home/azureuser/cloudfiles/code/Users/rishabh.chanana.adm/AutoTagging/Active Data Sources/TaaS/allkbs_meta2.csv\")\n",
    "allkbmeta= pd.concat([allkbmeta1,allkbmeta2])\n",
    "taxresults=pd.read_csv(\"/home/azureuser/cloudfiles/code/Users/rishabh.chanana.adm/AutoTagging/Active Data Sources/allresults.csv\")\n"
   ]
  },
  {
   "cell_type": "code",
   "execution_count": 9,
   "metadata": {},
   "outputs": [
    {
     "data": {
      "text/html": [
       "<div>\n",
       "<style scoped>\n",
       "    .dataframe tbody tr th:only-of-type {\n",
       "        vertical-align: middle;\n",
       "    }\n",
       "\n",
       "    .dataframe tbody tr th {\n",
       "        vertical-align: top;\n",
       "    }\n",
       "\n",
       "    .dataframe thead th {\n",
       "        text-align: right;\n",
       "    }\n",
       "</style>\n",
       "<table border=\"1\" class=\"dataframe\">\n",
       "  <thead>\n",
       "    <tr style=\"text-align: right;\">\n",
       "      <th></th>\n",
       "      <th>number</th>\n",
       "      <th>kb_knowledge_base</th>\n",
       "      <th>short_description</th>\n",
       "      <th>meta_description</th>\n",
       "      <th>category</th>\n",
       "      <th>kb_category</th>\n",
       "    </tr>\n",
       "  </thead>\n",
       "  <tbody>\n",
       "    <tr>\n",
       "      <th>0</th>\n",
       "      <td>KB0984381</td>\n",
       "      <td>Product Documentation: Utah</td>\n",
       "      <td>Populate the stakeholder registry</td>\n",
       "      <td>Previous topic | Next topic | IT Business Mana...</td>\n",
       "      <td>NaN</td>\n",
       "      <td>IT Service Management</td>\n",
       "    </tr>\n",
       "    <tr>\n",
       "      <th>1</th>\n",
       "      <td>KB1124068</td>\n",
       "      <td>Product Documentation: Tokyo</td>\n",
       "      <td>SAP Successfactors to ServiceNow field mapping</td>\n",
       "      <td>The Trigger SAP Successfactors Integration flo...</td>\n",
       "      <td>NaN</td>\n",
       "      <td>Employee Service Management</td>\n",
       "    </tr>\n",
       "    <tr>\n",
       "      <th>2</th>\n",
       "      <td>KB1124241</td>\n",
       "      <td>Product Documentation: Tokyo</td>\n",
       "      <td>SAP Successfactors: Known Issues and Limitations</td>\n",
       "      <td>The ServiceNow® HR Service Delivery integratio...</td>\n",
       "      <td>NaN</td>\n",
       "      <td>Employee Service Management</td>\n",
       "    </tr>\n",
       "    <tr>\n",
       "      <th>3</th>\n",
       "      <td>KB1125183</td>\n",
       "      <td>Product Documentation: Tokyo</td>\n",
       "      <td>IT Service Management</td>\n",
       "      <td>The IT Service Management (ITSM) solution prov...</td>\n",
       "      <td>NaN</td>\n",
       "      <td>IT Service Management</td>\n",
       "    </tr>\n",
       "    <tr>\n",
       "      <th>4</th>\n",
       "      <td>KB1125184</td>\n",
       "      <td>Product Documentation: Tokyo</td>\n",
       "      <td>Script includes and customization</td>\n",
       "      <td>Many Script Includes are provided by default w...</td>\n",
       "      <td>NaN</td>\n",
       "      <td>IT Service Management</td>\n",
       "    </tr>\n",
       "    <tr>\n",
       "      <th>...</th>\n",
       "      <td>...</td>\n",
       "      <td>...</td>\n",
       "      <td>...</td>\n",
       "      <td>...</td>\n",
       "      <td>...</td>\n",
       "      <td>...</td>\n",
       "    </tr>\n",
       "    <tr>\n",
       "      <th>73413</th>\n",
       "      <td>KBB0010043</td>\n",
       "      <td>Trust, Privacy, and Compliance</td>\n",
       "      <td>TPC_LINKS_PUBLIC_Microsoft Partnership</td>\n",
       "      <td>Find out more about ServiceNow's partnership w...</td>\n",
       "      <td>NaN</td>\n",
       "      <td>Miscellaneous</td>\n",
       "    </tr>\n",
       "    <tr>\n",
       "      <th>73414</th>\n",
       "      <td>KBB0010048</td>\n",
       "      <td>Trust, Privacy, and Compliance</td>\n",
       "      <td>TPC_LINKS_PUBLIC_PRODUCT Business Continuity</td>\n",
       "      <td>Find out more about ServiceNow's Business Cont...</td>\n",
       "      <td>NaN</td>\n",
       "      <td>Miscellaneous</td>\n",
       "    </tr>\n",
       "    <tr>\n",
       "      <th>73415</th>\n",
       "      <td>KBB0010057</td>\n",
       "      <td>Trust, Privacy, and Compliance</td>\n",
       "      <td>TPC_HEADER_PUBLIC_More information</td>\n",
       "      <td>More information</td>\n",
       "      <td>NaN</td>\n",
       "      <td>Miscellaneous</td>\n",
       "    </tr>\n",
       "    <tr>\n",
       "      <th>73416</th>\n",
       "      <td>KBB0010059</td>\n",
       "      <td>Trust, Privacy, and Compliance</td>\n",
       "      <td>TPC_HEADER_CUSTOMER_More information</td>\n",
       "      <td>NaN</td>\n",
       "      <td>NaN</td>\n",
       "      <td>Miscellaneous</td>\n",
       "    </tr>\n",
       "    <tr>\n",
       "      <th>73417</th>\n",
       "      <td>KBB0010154</td>\n",
       "      <td>Support and Troubleshooting</td>\n",
       "      <td>Customer Support - Contact Us</td>\n",
       "      <td>Help Center In general, customers are encourag...</td>\n",
       "      <td>NaN</td>\n",
       "      <td>Now Support</td>\n",
       "    </tr>\n",
       "  </tbody>\n",
       "</table>\n",
       "<p>196833 rows × 6 columns</p>\n",
       "</div>"
      ],
      "text/plain": [
       "           number               kb_knowledge_base  \\\n",
       "0       KB0984381     Product Documentation: Utah   \n",
       "1       KB1124068    Product Documentation: Tokyo   \n",
       "2       KB1124241    Product Documentation: Tokyo   \n",
       "3       KB1125183    Product Documentation: Tokyo   \n",
       "4       KB1125184    Product Documentation: Tokyo   \n",
       "...           ...                             ...   \n",
       "73413  KBB0010043  Trust, Privacy, and Compliance   \n",
       "73414  KBB0010048  Trust, Privacy, and Compliance   \n",
       "73415  KBB0010057  Trust, Privacy, and Compliance   \n",
       "73416  KBB0010059  Trust, Privacy, and Compliance   \n",
       "73417  KBB0010154     Support and Troubleshooting   \n",
       "\n",
       "                                      short_description  \\\n",
       "0                     Populate the stakeholder registry   \n",
       "1        SAP Successfactors to ServiceNow field mapping   \n",
       "2      SAP Successfactors: Known Issues and Limitations   \n",
       "3                               IT Service Management     \n",
       "4                     Script includes and customization   \n",
       "...                                                 ...   \n",
       "73413            TPC_LINKS_PUBLIC_Microsoft Partnership   \n",
       "73414      TPC_LINKS_PUBLIC_PRODUCT Business Continuity   \n",
       "73415                TPC_HEADER_PUBLIC_More information   \n",
       "73416              TPC_HEADER_CUSTOMER_More information   \n",
       "73417                     Customer Support - Contact Us   \n",
       "\n",
       "                                        meta_description category  \\\n",
       "0      Previous topic | Next topic | IT Business Mana...      NaN   \n",
       "1      The Trigger SAP Successfactors Integration flo...      NaN   \n",
       "2      The ServiceNow® HR Service Delivery integratio...      NaN   \n",
       "3      The IT Service Management (ITSM) solution prov...      NaN   \n",
       "4      Many Script Includes are provided by default w...      NaN   \n",
       "...                                                  ...      ...   \n",
       "73413  Find out more about ServiceNow's partnership w...      NaN   \n",
       "73414  Find out more about ServiceNow's Business Cont...      NaN   \n",
       "73415                                   More information      NaN   \n",
       "73416                                                NaN      NaN   \n",
       "73417  Help Center In general, customers are encourag...      NaN   \n",
       "\n",
       "                       kb_category  \n",
       "0            IT Service Management  \n",
       "1      Employee Service Management  \n",
       "2      Employee Service Management  \n",
       "3            IT Service Management  \n",
       "4            IT Service Management  \n",
       "...                            ...  \n",
       "73413                Miscellaneous  \n",
       "73414                Miscellaneous  \n",
       "73415                Miscellaneous  \n",
       "73416                Miscellaneous  \n",
       "73417                  Now Support  \n",
       "\n",
       "[196833 rows x 6 columns]"
      ]
     },
     "execution_count": 9,
     "metadata": {},
     "output_type": "execute_result"
    }
   ],
   "source": [
    "allkbmeta"
   ]
  },
  {
   "cell_type": "code",
   "execution_count": 10,
   "metadata": {},
   "outputs": [],
   "source": [
    "df2=pd.read_pickle('/home/azureuser/cloudfiles/code/Users/rishabh.chanana.adm/AutoTagging/Active Data Sources/TaaS/taas_trainingdata500_3.pkl')\n",
    "df=pd.read_pickle('/home/azureuser/cloudfiles/code/Users/rishabh.chanana.adm/AutoTagging/Active Data Sources/TaaS/taas_trainingdata100.pkl')"
   ]
  },
  {
   "cell_type": "code",
   "execution_count": 11,
   "metadata": {},
   "outputs": [],
   "source": [
    "df=df.reset_index(drop=True)\n",
    "df = df.rename(columns={'label': 'og_label'})"
   ]
  },
  {
   "cell_type": "code",
   "execution_count": 12,
   "metadata": {},
   "outputs": [],
   "source": [
    "\n",
    "df2=df2.reset_index(drop=True)\n",
    "df2 = df2.rename(columns={'label': 'og_label'})"
   ]
  },
  {
   "cell_type": "code",
   "execution_count": 13,
   "metadata": {},
   "outputs": [],
   "source": [
    "# old_labels=set(df.label.to_list())\n",
    "# num=0\n",
    "# new_labels_dict={}\n",
    "# for i in old_labels:\n",
    "#     new_labels_dict[i]=num\n",
    "#     num+=1\n",
    "# print(new_labels_dict)"
   ]
  },
  {
   "cell_type": "code",
   "execution_count": 14,
   "metadata": {},
   "outputs": [],
   "source": [
    "from sklearn.preprocessing import LabelEncoder\n",
    "labelencoder = LabelEncoder()\n",
    "df['label'] = labelencoder.fit_transform(df['og_label'])\n"
   ]
  },
  {
   "cell_type": "code",
   "execution_count": 15,
   "metadata": {},
   "outputs": [],
   "source": [
    "df2['label'] = labelencoder.fit_transform(df2['og_label'])\n"
   ]
  },
  {
   "cell_type": "code",
   "execution_count": 14,
   "metadata": {},
   "outputs": [],
   "source": [
    "# def assigntrainnums(val):\n",
    "#     return(new_labels_dict[val])"
   ]
  },
  {
   "cell_type": "code",
   "execution_count": 19,
   "metadata": {},
   "outputs": [
    {
     "data": {
      "text/plain": [
       "244"
      ]
     },
     "execution_count": 19,
     "metadata": {},
     "output_type": "execute_result"
    }
   ],
   "source": [
    "len(set(df.label))"
   ]
  },
  {
   "cell_type": "code",
   "execution_count": 15,
   "metadata": {},
   "outputs": [],
   "source": [
    "# df['label']=df['og_label'].apply(assigntrainnums)\n",
    "# df"
   ]
  },
  {
   "cell_type": "code",
   "execution_count": 21,
   "metadata": {},
   "outputs": [],
   "source": [
    "label_dict_100 = dict(zip(df.label,df.taxonomy))\n",
    "label_dict_500 = dict(zip(df2.label,df2.taxonomy))"
   ]
  },
  {
   "cell_type": "code",
   "execution_count": 26,
   "metadata": {},
   "outputs": [],
   "source": [
    "import pickle\n",
    "with open('label_dict_100.pickle', 'wb') as f1:\n",
    "    pickle.dump(label_dict_100, f1)\n",
    "with open('label_dict_500.pickle', 'wb') as f2:\n",
    "    pickle.dump(label_dict_500, f2)"
   ]
  },
  {
   "cell_type": "code",
   "execution_count": 32,
   "metadata": {},
   "outputs": [
    {
     "data": {
      "text/plain": [
       "52"
      ]
     },
     "execution_count": 32,
     "metadata": {},
     "output_type": "execute_result"
    }
   ],
   "source": [
    "len(label_dict_500)"
   ]
  },
  {
   "cell_type": "code",
   "execution_count": 25,
   "metadata": {},
   "outputs": [
    {
     "data": {
      "text/plain": [
       "{0: \"['Employee Service Management', 'Employee Center', 'Content Publishing']\",\n",
       " 39: \"['Telecommunications Service Management', 'Order Management for Telecommunications, Media, and Technology']\",\n",
       " 29: \"['Security Operations (Product Line)', 'Security Operations']\",\n",
       " 50: \"['Now Platform', 'Configuration Management Database (CMDB)']\",\n",
       " 48: \"['Security Operations (Product Line)', 'Security Incident Response', 'Security Incident Response integrations']\",\n",
       " 40: \"['IT Operations Management', 'ITOM Visibility']\",\n",
       " 20: \"['Customer Service Management', 'Customer Operations for Customer Service Management', 'Data Management for Customer Service']\",\n",
       " 7: \"['Governance, Risk, and Compliance', 'Policy and Compliance Management']\",\n",
       " 24: \"['App Engine', 'System Web Services', 'REST APIs', 'Contact API']\",\n",
       " 13: \"['IT Operations Management', 'ITOM Visibility', 'Discovery']\",\n",
       " 49: \"['Now Platform', 'Automated Test Framework (ATF)']\",\n",
       " 37: \"['IT Asset Management', 'Software Asset Management']\",\n",
       " 17: \"['Now Platform', 'Workspace Experience', 'Agent Workspace']\",\n",
       " 15: \"['IT Asset Management', 'Software Asset Management', 'SaaS License Management']\",\n",
       " 2: \"['Now Platform', 'UI Form Administration']\",\n",
       " 1: \"['Now Platform', 'MID Server']\",\n",
       " 44: \"['Security Operations (Product Line)', 'Threat Intelligence']\",\n",
       " 34: \"['Now Platform', 'Knowledge Management']\",\n",
       " 28: \"['Now Platform', 'Service Catalog', 'Service Catalog Components']\",\n",
       " 6: \"['IT Operations Management', 'ITOM Health', 'Health Log Analytics']\",\n",
       " 26: \"['IT Service Management', 'Incident Management']\",\n",
       " 23: \"['IT Operations Management', 'ITOM Visibility', 'Service Mapping']\",\n",
       " 45: \"['IT Service Management', 'IT Service Management integration with Microsoft Teams', 'ServiceNow for Teams - Core', 'ServiceNow for Teams - Core (Family)']\",\n",
       " 9: \"['Employee Service Management', 'HR Service Delivery']\",\n",
       " 19: \"['Now Platform', 'Legacy Workflow']\",\n",
       " 41: \"['IT Asset Management', 'Hardware Asset Management']\",\n",
       " 16: \"['App Engine', 'System Web Services', 'REST APIs', 'Agent Client Collector API']\",\n",
       " 35: \"['Security Operations (Product Line)', 'Security Incident Response']\",\n",
       " 43: \"['Automation Engine', 'Robotic Process Automation', 'RPA Desktop Design Studio', 'Universal App Connector']\",\n",
       " 31: \"['Strategic Portfolio Management', 'Project Portfolio Management', 'Project Management']\",\n",
       " 38: \"['Now Intelligence', 'Reporting']\",\n",
       " 47: \"['Now Platform', 'Process Automation', 'Flow Designer']\",\n",
       " 18: \"['IT Service Management', 'Asset Management']\",\n",
       " 10: \"['Strategic Portfolio Management', 'Agile Development']\",\n",
       " 32: \"['Now Platform', 'Conversational Interfaces', 'Virtual Agent']\",\n",
       " 33: \"['IT Service Management', 'Change Management']\",\n",
       " 25: \"['Automation Engine', 'Robotic Process Automation', 'RPA Hub']\",\n",
       " 22: \"['Employee Service Management', 'Employee Center']\",\n",
       " 36: \"['Now Platform', 'Orchestration', 'Orchestration Activity Packs']\",\n",
       " 11: \"['App Engine', 'System Web Services', 'REST APIs', 'Consumer API']\",\n",
       " 8: \"['Customer Service Management', 'Communities']\",\n",
       " 4: \"['Strategic Portfolio Management', 'Alignment Planner Workspace (Legacy)']\",\n",
       " 3: \"['Now Platform', 'List Administration']\",\n",
       " 42: \"['Automation Engine', 'Robotic Process Automation', 'RPA Desktop Design Studio', 'RPA Robot Run time']\",\n",
       " 27: \"['Now Platform', 'Service Catalog']\",\n",
       " 12: \"['Now Platform', 'Orchestration', 'Orchestration Activity Designer']\",\n",
       " 5: \"['Strategic Portfolio Management', 'Application Portfolio Management']\",\n",
       " 51: \"['Security Operations (Product Line)', 'Vulnerability Response']\",\n",
       " 21: \"['Now Intelligence', 'Performance Analytics']\",\n",
       " 14: \"['IT Operations Management', 'ITOM Health', 'Event Management']\",\n",
       " 30: \"['IT Operations Management', 'ITOM Optimization', 'Cloud Provisioning and Governance', 'Cloud Admin Portal']\",\n",
       " 46: \"['IT Service Management', 'Service Level Management']\"}"
      ]
     },
     "execution_count": 25,
     "metadata": {},
     "output_type": "execute_result"
    }
   ],
   "source": [
    "label_dict_500"
   ]
  },
  {
   "cell_type": "code",
   "execution_count": 24,
   "metadata": {},
   "outputs": [
    {
     "data": {
      "text/plain": [
       "244"
      ]
     },
     "execution_count": 24,
     "metadata": {},
     "output_type": "execute_result"
    }
   ],
   "source": [
    "len(label_dict_100)"
   ]
  },
  {
   "cell_type": "code",
   "execution_count": 16,
   "metadata": {},
   "outputs": [
    {
     "data": {
      "text/html": [
       "<div>\n",
       "<style scoped>\n",
       "    .dataframe tbody tr th:only-of-type {\n",
       "        vertical-align: middle;\n",
       "    }\n",
       "\n",
       "    .dataframe tbody tr th {\n",
       "        vertical-align: top;\n",
       "    }\n",
       "\n",
       "    .dataframe thead th {\n",
       "        text-align: right;\n",
       "    }\n",
       "</style>\n",
       "<table border=\"1\" class=\"dataframe\">\n",
       "  <thead>\n",
       "    <tr style=\"text-align: right;\">\n",
       "      <th></th>\n",
       "      <th>number</th>\n",
       "      <th>taxonomy</th>\n",
       "      <th>taxonomy_nums</th>\n",
       "      <th>og_label</th>\n",
       "      <th>text</th>\n",
       "      <th>label</th>\n",
       "    </tr>\n",
       "  </thead>\n",
       "  <tbody>\n",
       "    <tr>\n",
       "      <th>0</th>\n",
       "      <td>KB1473471</td>\n",
       "      <td>['IT Asset Management', 'Enterprise Asset Mana...</td>\n",
       "      <td>859</td>\n",
       "      <td>859</td>\n",
       "      <td>resolve and close an enterprise asset manageme...</td>\n",
       "      <td>77</td>\n",
       "    </tr>\n",
       "    <tr>\n",
       "      <th>1</th>\n",
       "      <td>KB1142273</td>\n",
       "      <td>['IT Operations Management', 'ITOM Visibility'...</td>\n",
       "      <td>1345</td>\n",
       "      <td>-1</td>\n",
       "      <td>examples of discovery behavior functionalities...</td>\n",
       "      <td>0</td>\n",
       "    </tr>\n",
       "    <tr>\n",
       "      <th>2</th>\n",
       "      <td>KB1154025</td>\n",
       "      <td>['IT Asset Management', 'Cloud Cost Management...</td>\n",
       "      <td>70</td>\n",
       "      <td>-1</td>\n",
       "      <td>configure reservation plans operations configu...</td>\n",
       "      <td>0</td>\n",
       "    </tr>\n",
       "    <tr>\n",
       "      <th>3</th>\n",
       "      <td>KB1448456</td>\n",
       "      <td>['Governance, Risk, and Compliance', 'Business...</td>\n",
       "      <td>84</td>\n",
       "      <td>-1</td>\n",
       "      <td>impact rating record form impact rating record...</td>\n",
       "      <td>0</td>\n",
       "    </tr>\n",
       "    <tr>\n",
       "      <th>4</th>\n",
       "      <td>KB1244838</td>\n",
       "      <td>['IT Asset Management', 'Enterprise Asset Mana...</td>\n",
       "      <td>859</td>\n",
       "      <td>859</td>\n",
       "      <td>close an enterprise asset reclamation request ...</td>\n",
       "      <td>77</td>\n",
       "    </tr>\n",
       "    <tr>\n",
       "      <th>...</th>\n",
       "      <td>...</td>\n",
       "      <td>...</td>\n",
       "      <td>...</td>\n",
       "      <td>...</td>\n",
       "      <td>...</td>\n",
       "      <td>...</td>\n",
       "    </tr>\n",
       "    <tr>\n",
       "      <th>24395</th>\n",
       "      <td>KB1132016</td>\n",
       "      <td>['Telecommunications Service Management', 'Tel...</td>\n",
       "      <td>304</td>\n",
       "      <td>304</td>\n",
       "      <td>creating equipment relationships with inventor...</td>\n",
       "      <td>27</td>\n",
       "    </tr>\n",
       "    <tr>\n",
       "      <th>24396</th>\n",
       "      <td>KB1135654</td>\n",
       "      <td>['Employee Service Management', 'Workplace Ser...</td>\n",
       "      <td>1625</td>\n",
       "      <td>1625</td>\n",
       "      <td>analytics and reporting solutions for workplac...</td>\n",
       "      <td>145</td>\n",
       "    </tr>\n",
       "    <tr>\n",
       "      <th>24397</th>\n",
       "      <td>KB1487235</td>\n",
       "      <td>['IT Service Management', 'Workforce Optimizat...</td>\n",
       "      <td>2448</td>\n",
       "      <td>2448</td>\n",
       "      <td>setting up channels in workforce optimization ...</td>\n",
       "      <td>219</td>\n",
       "    </tr>\n",
       "    <tr>\n",
       "      <th>24398</th>\n",
       "      <td>KB1140835</td>\n",
       "      <td>['Governance, Risk, and Compliance', 'Risk Man...</td>\n",
       "      <td>2053</td>\n",
       "      <td>2053</td>\n",
       "      <td>entity tiers in grc entity tiers in grc by cre...</td>\n",
       "      <td>187</td>\n",
       "    </tr>\n",
       "    <tr>\n",
       "      <th>24399</th>\n",
       "      <td>KB1475052</td>\n",
       "      <td>['Governance, Risk, and Compliance', 'Risk Man...</td>\n",
       "      <td>2053</td>\n",
       "      <td>2053</td>\n",
       "      <td>visualize and edit entity dependencies using t...</td>\n",
       "      <td>187</td>\n",
       "    </tr>\n",
       "  </tbody>\n",
       "</table>\n",
       "<p>24400 rows × 6 columns</p>\n",
       "</div>"
      ],
      "text/plain": [
       "          number                                           taxonomy  \\\n",
       "0      KB1473471  ['IT Asset Management', 'Enterprise Asset Mana...   \n",
       "1      KB1142273  ['IT Operations Management', 'ITOM Visibility'...   \n",
       "2      KB1154025  ['IT Asset Management', 'Cloud Cost Management...   \n",
       "3      KB1448456  ['Governance, Risk, and Compliance', 'Business...   \n",
       "4      KB1244838  ['IT Asset Management', 'Enterprise Asset Mana...   \n",
       "...          ...                                                ...   \n",
       "24395  KB1132016  ['Telecommunications Service Management', 'Tel...   \n",
       "24396  KB1135654  ['Employee Service Management', 'Workplace Ser...   \n",
       "24397  KB1487235  ['IT Service Management', 'Workforce Optimizat...   \n",
       "24398  KB1140835  ['Governance, Risk, and Compliance', 'Risk Man...   \n",
       "24399  KB1475052  ['Governance, Risk, and Compliance', 'Risk Man...   \n",
       "\n",
       "       taxonomy_nums  og_label  \\\n",
       "0                859       859   \n",
       "1               1345        -1   \n",
       "2                 70        -1   \n",
       "3                 84        -1   \n",
       "4                859       859   \n",
       "...              ...       ...   \n",
       "24395            304       304   \n",
       "24396           1625      1625   \n",
       "24397           2448      2448   \n",
       "24398           2053      2053   \n",
       "24399           2053      2053   \n",
       "\n",
       "                                                    text  label  \n",
       "0      resolve and close an enterprise asset manageme...     77  \n",
       "1      examples of discovery behavior functionalities...      0  \n",
       "2      configure reservation plans operations configu...      0  \n",
       "3      impact rating record form impact rating record...      0  \n",
       "4      close an enterprise asset reclamation request ...     77  \n",
       "...                                                  ...    ...  \n",
       "24395  creating equipment relationships with inventor...     27  \n",
       "24396  analytics and reporting solutions for workplac...    145  \n",
       "24397  setting up channels in workforce optimization ...    219  \n",
       "24398  entity tiers in grc entity tiers in grc by cre...    187  \n",
       "24399  visualize and edit entity dependencies using t...    187  \n",
       "\n",
       "[24400 rows x 6 columns]"
      ]
     },
     "execution_count": 16,
     "metadata": {},
     "output_type": "execute_result"
    }
   ],
   "source": [
    "df"
   ]
  },
  {
   "cell_type": "code",
   "execution_count": 17,
   "metadata": {},
   "outputs": [
    {
     "data": {
      "text/plain": [
       "24400"
      ]
     },
     "execution_count": 17,
     "metadata": {},
     "output_type": "execute_result"
    }
   ],
   "source": [
    "len(df.label)"
   ]
  },
  {
   "cell_type": "code",
   "execution_count": 18,
   "metadata": {},
   "outputs": [],
   "source": [
    "tokenizer = BertTokenizer.from_pretrained('bert-base-uncased', do_lower_case=True)\n",
    "# tokenizer = BertTokenizer.from_pretrained('FacebookAI/roberta-base', do_lower_case=True)"
   ]
  },
  {
   "cell_type": "code",
   "execution_count": 19,
   "metadata": {},
   "outputs": [],
   "source": [
    "# from transformers import AutoModel,AutoTokenizer\n",
    "# name = \"FacebookAI/roberta-base\"\n",
    "# tokenizer = AutoTokenizer.from_pretrained(name, add_prefix_space=True, use_fast=False)\n",
    "# model = BertForSequenceClassification.from_pretrained(name)\n"
   ]
  },
  {
   "cell_type": "code",
   "execution_count": 20,
   "metadata": {},
   "outputs": [],
   "source": [
    "train_df, val_df = train_test_split(df, test_size=0.30, stratify=df['label'], random_state=42)\n",
    "test_df, val_df = train_test_split(val_df, test_size=0.50, stratify=val_df['label'], random_state=42)\n"
   ]
  },
  {
   "cell_type": "code",
   "execution_count": 21,
   "metadata": {},
   "outputs": [],
   "source": [
    "def encode(docs):\n",
    "    '''\n",
    "    This function takes list of texts and returns input_ids and attention_mask of texts\n",
    "    '''\n",
    "    encoded_dict = tokenizer.batch_encode_plus(docs, add_special_tokens=True, max_length=512, padding='max_length',\n",
    "                            return_attention_mask=True, truncation=True, return_tensors='pt')\n",
    "    input_ids = encoded_dict['input_ids']\n",
    "    attention_masks = encoded_dict['attention_mask']\n",
    "    return input_ids, attention_masks"
   ]
  },
  {
   "cell_type": "code",
   "execution_count": 22,
   "metadata": {},
   "outputs": [],
   "source": [
    "train_input_ids, train_att_masks = encode(train_df['text'].values.tolist())\n",
    "valid_input_ids, valid_att_masks = encode(val_df['text'].values.tolist())\n",
    "test_input_ids, test_att_masks = encode(test_df['text'].values.tolist())"
   ]
  },
  {
   "cell_type": "code",
   "execution_count": 23,
   "metadata": {},
   "outputs": [
    {
     "data": {
      "text/plain": [
       "(torch.Size([17080]), torch.Size([3660]), torch.Size([3660]))"
      ]
     },
     "execution_count": 23,
     "metadata": {},
     "output_type": "execute_result"
    }
   ],
   "source": [
    "train_y = torch.LongTensor(train_df['label'].values.tolist())\n",
    "valid_y = torch.LongTensor(val_df['label'].values.tolist())\n",
    "test_y = torch.LongTensor(test_df['label'].values.tolist())\n",
    "train_y.size(),valid_y.size(),test_y.size()"
   ]
  },
  {
   "cell_type": "code",
   "execution_count": 24,
   "metadata": {},
   "outputs": [],
   "source": [
    "BATCH_SIZE = 32\n",
    "train_dataset = TensorDataset(train_input_ids, train_att_masks, train_y)\n",
    "train_sampler = RandomSampler(train_dataset)\n",
    "train_dataloader = DataLoader(train_dataset, sampler=train_sampler, batch_size=BATCH_SIZE)\n",
    "\n",
    "valid_dataset = TensorDataset(valid_input_ids, valid_att_masks, valid_y)\n",
    "valid_sampler = SequentialSampler(valid_dataset)\n",
    "valid_dataloader = DataLoader(valid_dataset, sampler=valid_sampler, batch_size=BATCH_SIZE)\n",
    "\n",
    "test_dataset = TensorDataset(test_input_ids, test_att_masks, test_y)\n",
    "test_sampler = SequentialSampler(test_dataset)\n",
    "test_dataloader = DataLoader(test_dataset, sampler=test_sampler, batch_size=BATCH_SIZE)"
   ]
  },
  {
   "cell_type": "code",
   "execution_count": 25,
   "metadata": {},
   "outputs": [],
   "source": [
    "# model = AutoModel.from_pretrained(name, num_labels=N_labels,\n",
    "#                                                       output_attentions=False,\n",
    "#                                                       output_hidden_states=False)\n"
   ]
  },
  {
   "cell_type": "code",
   "execution_count": 26,
   "metadata": {},
   "outputs": [
    {
     "name": "stderr",
     "output_type": "stream",
     "text": [
      "Some weights of BertForSequenceClassification were not initialized from the model checkpoint at bert-base-uncased and are newly initialized: ['classifier.bias', 'classifier.weight']\n",
      "You should probably TRAIN this model on a down-stream task to be able to use it for predictions and inference.\n"
     ]
    }
   ],
   "source": [
    "N_labels = len(train_df.label.unique())\n",
    "model = BertForSequenceClassification.from_pretrained('bert-base-uncased',\n",
    "                                                      num_labels=N_labels,\n",
    "                                                      output_attentions=False,\n",
    "                                                      output_hidden_states=False)\n"
   ]
  },
  {
   "cell_type": "code",
   "execution_count": 27,
   "metadata": {},
   "outputs": [
    {
     "data": {
      "text/plain": [
       "device(type='cuda')"
      ]
     },
     "execution_count": 27,
     "metadata": {},
     "output_type": "execute_result"
    }
   ],
   "source": [
    "device = torch.device(\"cuda\" if torch.cuda.is_available() else \"cpu\")\n",
    "device"
   ]
  },
  {
   "cell_type": "code",
   "execution_count": 28,
   "metadata": {},
   "outputs": [],
   "source": [
    "# import gc\n",
    "\n",
    "# model.cpu()\n",
    "# del model\n",
    "# gc.collect()\n",
    "# torch.cuda.empty_cache()"
   ]
  },
  {
   "cell_type": "code",
   "execution_count": 29,
   "metadata": {},
   "outputs": [],
   "source": [
    "model = model.to(device)"
   ]
  },
  {
   "cell_type": "code",
   "execution_count": 30,
   "metadata": {},
   "outputs": [
    {
     "name": "stderr",
     "output_type": "stream",
     "text": [
      "/anaconda/envs/azureml_py38_PT_TF/lib/python3.8/site-packages/transformers/optimization.py:429: FutureWarning: This implementation of AdamW is deprecated and will be removed in a future version. Use the PyTorch implementation torch.optim.AdamW instead, or set `no_deprecation_warning=True` to disable this warning\n",
      "  warnings.warn(\n"
     ]
    }
   ],
   "source": [
    "EPOCHS = 100\n",
    "LEARNING_RATE = 2e-6\n",
    "\n",
    "optimizer = AdamW(model.parameters(), lr=LEARNING_RATE)\n",
    "scheduler = get_linear_schedule_with_warmup(optimizer, \n",
    "             num_warmup_steps=0,\n",
    "            num_training_steps=len(train_dataloader)*EPOCHS )"
   ]
  },
  {
   "cell_type": "code",
   "execution_count": 31,
   "metadata": {},
   "outputs": [
    {
     "name": "stdout",
     "output_type": "stream",
     "text": [
      "Epoch:  1\n"
     ]
    },
    {
     "data": {
      "application/vnd.jupyter.widget-view+json": {
       "model_id": "2d3e11aea3b94e31b29d2150310a343d",
       "version_major": 2,
       "version_minor": 0
      },
      "text/plain": [
       "Training:   0%|          | 0/534 [00:00<?, ?it/s]"
      ]
     },
     "metadata": {},
     "output_type": "display_data"
    },
    {
     "data": {
      "application/vnd.jupyter.widget-view+json": {
       "model_id": "03c191771c864f50be678b89fe029140",
       "version_major": 2,
       "version_minor": 0
      },
      "text/plain": [
       "Validation:   0%|          | 0/115 [00:00<?, ?it/s]"
      ]
     },
     "metadata": {},
     "output_type": "display_data"
    },
    {
     "name": "stdout",
     "output_type": "stream",
     "text": [
      "534/534 train loss: 5.493703666251251 \n",
      "115/115 val loss: 5.430581283569336 \n",
      "Accuracy= 0.006010928961748634\n",
      "Epoch:  2\n"
     ]
    },
    {
     "data": {
      "application/vnd.jupyter.widget-view+json": {
       "model_id": "ecb3dcf02dab46d59eccd2012e3bf5d1",
       "version_major": 2,
       "version_minor": 0
      },
      "text/plain": [
       "Training:   0%|          | 0/534 [00:00<?, ?it/s]"
      ]
     },
     "metadata": {},
     "output_type": "display_data"
    },
    {
     "ename": "KeyboardInterrupt",
     "evalue": "",
     "output_type": "error",
     "traceback": [
      "\u001b[0;31m---------------------------------------------------------------------------\u001b[0m",
      "\u001b[0;31mKeyboardInterrupt\u001b[0m                         Traceback (most recent call last)",
      "Cell \u001b[0;32mIn[31], line 22\u001b[0m\n\u001b[1;32m     19\u001b[0m train_loss \u001b[38;5;241m+\u001b[39m\u001b[38;5;241m=\u001b[39m loss\u001b[38;5;241m.\u001b[39mitem()\n\u001b[1;32m     21\u001b[0m model\u001b[38;5;241m.\u001b[39mzero_grad()\n\u001b[0;32m---> 22\u001b[0m \u001b[43mloss\u001b[49m\u001b[38;5;241;43m.\u001b[39;49m\u001b[43mbackward\u001b[49m\u001b[43m(\u001b[49m\u001b[43m)\u001b[49m\n\u001b[1;32m     23\u001b[0m \u001b[38;5;28;01mdel\u001b[39;00m loss\n\u001b[1;32m     25\u001b[0m clip_grad_norm_(parameters\u001b[38;5;241m=\u001b[39mmodel\u001b[38;5;241m.\u001b[39mparameters(), max_norm\u001b[38;5;241m=\u001b[39m\u001b[38;5;241m1.0\u001b[39m)\n",
      "File \u001b[0;32m/anaconda/envs/azureml_py38_PT_TF/lib/python3.8/site-packages/torch/_tensor.py:396\u001b[0m, in \u001b[0;36mTensor.backward\u001b[0;34m(self, gradient, retain_graph, create_graph, inputs)\u001b[0m\n\u001b[1;32m    387\u001b[0m \u001b[38;5;28;01mif\u001b[39;00m has_torch_function_unary(\u001b[38;5;28mself\u001b[39m):\n\u001b[1;32m    388\u001b[0m     \u001b[38;5;28;01mreturn\u001b[39;00m handle_torch_function(\n\u001b[1;32m    389\u001b[0m         Tensor\u001b[38;5;241m.\u001b[39mbackward,\n\u001b[1;32m    390\u001b[0m         (\u001b[38;5;28mself\u001b[39m,),\n\u001b[0;32m   (...)\u001b[0m\n\u001b[1;32m    394\u001b[0m         create_graph\u001b[38;5;241m=\u001b[39mcreate_graph,\n\u001b[1;32m    395\u001b[0m         inputs\u001b[38;5;241m=\u001b[39minputs)\n\u001b[0;32m--> 396\u001b[0m \u001b[43mtorch\u001b[49m\u001b[38;5;241;43m.\u001b[39;49m\u001b[43mautograd\u001b[49m\u001b[38;5;241;43m.\u001b[39;49m\u001b[43mbackward\u001b[49m\u001b[43m(\u001b[49m\u001b[38;5;28;43mself\u001b[39;49m\u001b[43m,\u001b[49m\u001b[43m \u001b[49m\u001b[43mgradient\u001b[49m\u001b[43m,\u001b[49m\u001b[43m \u001b[49m\u001b[43mretain_graph\u001b[49m\u001b[43m,\u001b[49m\u001b[43m \u001b[49m\u001b[43mcreate_graph\u001b[49m\u001b[43m,\u001b[49m\u001b[43m \u001b[49m\u001b[43minputs\u001b[49m\u001b[38;5;241;43m=\u001b[39;49m\u001b[43minputs\u001b[49m\u001b[43m)\u001b[49m\n",
      "File \u001b[0;32m/anaconda/envs/azureml_py38_PT_TF/lib/python3.8/site-packages/torch/autograd/__init__.py:173\u001b[0m, in \u001b[0;36mbackward\u001b[0;34m(tensors, grad_tensors, retain_graph, create_graph, grad_variables, inputs)\u001b[0m\n\u001b[1;32m    168\u001b[0m     retain_graph \u001b[38;5;241m=\u001b[39m create_graph\n\u001b[1;32m    170\u001b[0m \u001b[38;5;66;03m# The reason we repeat same the comment below is that\u001b[39;00m\n\u001b[1;32m    171\u001b[0m \u001b[38;5;66;03m# some Python versions print out the first line of a multi-line function\u001b[39;00m\n\u001b[1;32m    172\u001b[0m \u001b[38;5;66;03m# calls in the traceback and some print out the last line\u001b[39;00m\n\u001b[0;32m--> 173\u001b[0m \u001b[43mVariable\u001b[49m\u001b[38;5;241;43m.\u001b[39;49m\u001b[43m_execution_engine\u001b[49m\u001b[38;5;241;43m.\u001b[39;49m\u001b[43mrun_backward\u001b[49m\u001b[43m(\u001b[49m\u001b[43m  \u001b[49m\u001b[38;5;66;43;03m# Calls into the C++ engine to run the backward pass\u001b[39;49;00m\n\u001b[1;32m    174\u001b[0m \u001b[43m    \u001b[49m\u001b[43mtensors\u001b[49m\u001b[43m,\u001b[49m\u001b[43m \u001b[49m\u001b[43mgrad_tensors_\u001b[49m\u001b[43m,\u001b[49m\u001b[43m \u001b[49m\u001b[43mretain_graph\u001b[49m\u001b[43m,\u001b[49m\u001b[43m \u001b[49m\u001b[43mcreate_graph\u001b[49m\u001b[43m,\u001b[49m\u001b[43m \u001b[49m\u001b[43minputs\u001b[49m\u001b[43m,\u001b[49m\n\u001b[1;32m    175\u001b[0m \u001b[43m    \u001b[49m\u001b[43mallow_unreachable\u001b[49m\u001b[38;5;241;43m=\u001b[39;49m\u001b[38;5;28;43;01mTrue\u001b[39;49;00m\u001b[43m,\u001b[49m\u001b[43m \u001b[49m\u001b[43maccumulate_grad\u001b[49m\u001b[38;5;241;43m=\u001b[39;49m\u001b[38;5;28;43;01mTrue\u001b[39;49;00m\u001b[43m)\u001b[49m\n",
      "\u001b[0;31mKeyboardInterrupt\u001b[0m: "
     ]
    }
   ],
   "source": [
    "import math\n",
    "\n",
    "train_loss_per_epoch = []\n",
    "val_loss_per_epoch = []\n",
    "val_loss_max=float('inf')\n",
    "\n",
    "for epoch_num in range(EPOCHS):\n",
    "    print('Epoch: ', epoch_num + 1)\n",
    "    '''\n",
    "    Training\n",
    "    '''\n",
    "    model.train()\n",
    "    train_loss = 0\n",
    "    for step_num, batch_data in enumerate(tqdm(train_dataloader,desc='Training')):\n",
    "        input_ids, att_mask, labels = [data.to(device) for data in batch_data]\n",
    "        output = model(input_ids = input_ids, attention_mask=att_mask, labels= labels)\n",
    "        \n",
    "        loss = output.loss\n",
    "        train_loss += loss.item()\n",
    "\n",
    "        model.zero_grad()\n",
    "        loss.backward()\n",
    "        del loss\n",
    "\n",
    "        clip_grad_norm_(parameters=model.parameters(), max_norm=1.0)\n",
    "        optimizer.step()\n",
    "        scheduler.step()\n",
    "\n",
    "    train_loss_per_epoch.append(train_loss / (step_num + 1))              \n",
    "\n",
    "\n",
    "    '''\n",
    "    Validation\n",
    "    '''\n",
    "    model.eval()\n",
    "    valid_loss = 0\n",
    "    valid_pred = []\n",
    "    with torch.no_grad():\n",
    "        for step_num_e, batch_data in enumerate(tqdm(valid_dataloader,desc='Validation')):\n",
    "            input_ids, att_mask, labels = [data.to(device) for data in batch_data]\n",
    "            output = model(input_ids = input_ids, attention_mask=att_mask, labels= labels)\n",
    "\n",
    "            loss = output.loss\n",
    "            valid_loss += loss.item()\n",
    "   \n",
    "            valid_pred.append(np.argmax(output.logits.cpu().detach().numpy(),axis=-1))\n",
    "        \n",
    "    val_loss_per_epoch.append(valid_loss / (step_num_e + 1))\n",
    "    valid_pred = np.concatenate(valid_pred)\n",
    "    if(valid_loss<val_loss_max):\n",
    "        valid_loss_max=valid_loss\n",
    "        torch.save(model.state_dict(), 'model.pk')\n",
    "    else:\n",
    "        break\n",
    "\n",
    "    '''\n",
    "    Loss message\n",
    "    '''\n",
    "    print(\"{0}/{1} train loss: {2} \".format(step_num+1, math.ceil(len(train_df) / BATCH_SIZE), train_loss / (step_num + 1)))\n",
    "    print(\"{0}/{1} val loss: {2} \".format(step_num_e+1, math.ceil(len(val_df) / BATCH_SIZE), valid_loss / (step_num_e + 1)))\n",
    "    print(\"Accuracy=\",metrics.accuracy_score(val_df['label'].to_numpy(),valid_pred)\n",
    ")"
   ]
  },
  {
   "cell_type": "code",
   "execution_count": 41,
   "metadata": {},
   "outputs": [
    {
     "data": {
      "text/html": [
       "<div>\n",
       "<style scoped>\n",
       "    .dataframe tbody tr th:only-of-type {\n",
       "        vertical-align: middle;\n",
       "    }\n",
       "\n",
       "    .dataframe tbody tr th {\n",
       "        vertical-align: top;\n",
       "    }\n",
       "\n",
       "    .dataframe thead th {\n",
       "        text-align: right;\n",
       "    }\n",
       "</style>\n",
       "<table border=\"1\" class=\"dataframe\">\n",
       "  <thead>\n",
       "    <tr style=\"text-align: right;\">\n",
       "      <th></th>\n",
       "      <th>number</th>\n",
       "      <th>desc</th>\n",
       "      <th>text</th>\n",
       "    </tr>\n",
       "  </thead>\n",
       "  <tbody>\n",
       "    <tr>\n",
       "      <th>0</th>\n",
       "      <td>KB0521688</td>\n",
       "      <td>Troubleshooting Network Performance_Data Colle...</td>\n",
       "      <td>servicenow works to build and maintain an indu...</td>\n",
       "    </tr>\n",
       "    <tr>\n",
       "      <th>1</th>\n",
       "      <td>KB0535320</td>\n",
       "      <td>Troubleshooting reports that take a long time ...</td>\n",
       "      <td>troubleshooting reports that take a long time ...</td>\n",
       "    </tr>\n",
       "    <tr>\n",
       "      <th>2</th>\n",
       "      <td>KB0535508</td>\n",
       "      <td>Change Requests can be saved with a start date...</td>\n",
       "      <td>description when creating or modifying a chang...</td>\n",
       "    </tr>\n",
       "    <tr>\n",
       "      <th>3</th>\n",
       "      <td>KB0538138</td>\n",
       "      <td>Troubleshooting issues with email attachments</td>\n",
       "      <td>this article guides you through the process of...</td>\n",
       "    </tr>\n",
       "    <tr>\n",
       "      <th>4</th>\n",
       "      <td>KB0538170</td>\n",
       "      <td>User domain does not match the workflow domain</td>\n",
       "      <td>user domain does not match the workflow domain...</td>\n",
       "    </tr>\n",
       "    <tr>\n",
       "      <th>...</th>\n",
       "      <td>...</td>\n",
       "      <td>...</td>\n",
       "      <td>...</td>\n",
       "    </tr>\n",
       "    <tr>\n",
       "      <th>156764</th>\n",
       "      <td>KB1633216</td>\n",
       "      <td>RESTAPIRequest - queryString</td>\n",
       "      <td>restapirequest restapirequest the restapireque...</td>\n",
       "    </tr>\n",
       "    <tr>\n",
       "      <th>156765</th>\n",
       "      <td>KB1633268</td>\n",
       "      <td>Configure outbound configurations in ServiceNo...</td>\n",
       "      <td>set up slack spoke set up slack spoke integrat...</td>\n",
       "    </tr>\n",
       "    <tr>\n",
       "      <th>156766</th>\n",
       "      <td>KB1633347</td>\n",
       "      <td>Install Windows App activity</td>\n",
       "      <td>install windows app activity install windows a...</td>\n",
       "    </tr>\n",
       "    <tr>\n",
       "      <th>156767</th>\n",
       "      <td>KB1633370</td>\n",
       "      <td>RESTAPIRequest - pathParams</td>\n",
       "      <td>restapirequest restapirequest the restapireque...</td>\n",
       "    </tr>\n",
       "    <tr>\n",
       "      <th>156768</th>\n",
       "      <td>KBB0010031</td>\n",
       "      <td>TPC_LINKS_PUBLIC_Patching Program</td>\n",
       "      <td>find out more about servicenow's patching prog...</td>\n",
       "    </tr>\n",
       "  </tbody>\n",
       "</table>\n",
       "<p>156769 rows × 3 columns</p>\n",
       "</div>"
      ],
      "text/plain": [
       "            number                                               desc  \\\n",
       "0        KB0521688  Troubleshooting Network Performance_Data Colle...   \n",
       "1        KB0535320  Troubleshooting reports that take a long time ...   \n",
       "2        KB0535508  Change Requests can be saved with a start date...   \n",
       "3        KB0538138      Troubleshooting issues with email attachments   \n",
       "4        KB0538170     User domain does not match the workflow domain   \n",
       "...            ...                                                ...   \n",
       "156764   KB1633216                       RESTAPIRequest - queryString   \n",
       "156765   KB1633268  Configure outbound configurations in ServiceNo...   \n",
       "156766   KB1633347                       Install Windows App activity   \n",
       "156767   KB1633370                        RESTAPIRequest - pathParams   \n",
       "156768  KBB0010031                  TPC_LINKS_PUBLIC_Patching Program   \n",
       "\n",
       "                                                     text  \n",
       "0       servicenow works to build and maintain an indu...  \n",
       "1       troubleshooting reports that take a long time ...  \n",
       "2       description when creating or modifying a chang...  \n",
       "3       this article guides you through the process of...  \n",
       "4       user domain does not match the workflow domain...  \n",
       "...                                                   ...  \n",
       "156764  restapirequest restapirequest the restapireque...  \n",
       "156765  set up slack spoke set up slack spoke integrat...  \n",
       "156766  install windows app activity install windows a...  \n",
       "156767  restapirequest restapirequest the restapireque...  \n",
       "156768  find out more about servicenow's patching prog...  \n",
       "\n",
       "[156769 rows x 3 columns]"
      ]
     },
     "execution_count": 41,
     "metadata": {},
     "output_type": "execute_result"
    }
   ],
   "source": [
    "kb_data"
   ]
  },
  {
   "cell_type": "code",
   "execution_count": 42,
   "metadata": {},
   "outputs": [
    {
     "data": {
      "application/vnd.jupyter.widget-view+json": {
       "model_id": "33fabbd46b0f49b0acb7262418aa0fc3",
       "version_major": 2,
       "version_minor": 0
      },
      "text/plain": [
       "0it [00:00, ?it/s]"
      ]
     },
     "metadata": {},
     "output_type": "display_data"
    }
   ],
   "source": [
    "model.eval()\n",
    "test_pred = []\n",
    "test_loss= 0\n",
    "with torch.no_grad():\n",
    "    for step_num, batch_data in tqdm(enumerate(test_dataloader)):\n",
    "        input_ids, att_mask, labels = [data.to(device) for data in batch_data]\n",
    "        output = model(input_ids = input_ids, attention_mask=att_mask, labels= labels)\n",
    "\n",
    "        loss = output.loss\n",
    "        test_loss += loss.item()\n",
    "   \n",
    "        test_pred.append(np.argmax(output.logits.cpu().detach().numpy(),axis=-1))\n",
    "test_pred = np.concatenate(test_pred)"
   ]
  },
  {
   "cell_type": "code",
   "execution_count": 43,
   "metadata": {},
   "outputs": [
    {
     "name": "stdout",
     "output_type": "stream",
     "text": [
      "Accuracy= 0.7475409836065574\n"
     ]
    }
   ],
   "source": [
    "print(\"Accuracy=\",metrics.accuracy_score(test_df['label'].to_numpy(),test_pred))\n"
   ]
  },
  {
   "cell_type": "code",
   "execution_count": 44,
   "metadata": {},
   "outputs": [
    {
     "name": "stdout",
     "output_type": "stream",
     "text": [
      "classifiation report\n",
      "              precision    recall  f1-score   support\n",
      "\n",
      "           0       0.00      0.00      0.00         0\n",
      "           1       0.93      0.82      0.87        17\n",
      "           2       0.67      0.62      0.65        16\n",
      "           3       1.00      0.94      0.97        16\n",
      "           4       0.87      0.81      0.84        16\n",
      "           5       0.47      0.78      0.58         9\n",
      "           6       0.87      0.87      0.87        15\n",
      "           7       0.80      0.63      0.71        19\n",
      "           8       0.67      0.62      0.65        16\n",
      "           9       0.73      0.50      0.59        22\n",
      "          10       0.40      0.40      0.40        15\n",
      "          11       1.00      0.58      0.73        26\n",
      "          12       0.87      0.87      0.87        15\n",
      "          13       0.93      0.93      0.93        15\n",
      "          14       0.53      0.73      0.62        11\n",
      "          15       0.80      0.80      0.80        15\n",
      "          16       0.07      0.50      0.12         2\n",
      "          17       0.93      0.88      0.90        16\n",
      "          18       0.87      0.87      0.87        15\n",
      "          19       0.80      0.63      0.71        19\n",
      "          20       0.93      0.93      0.93        15\n",
      "          21       0.73      0.69      0.71        16\n",
      "          22       0.87      0.93      0.90        14\n",
      "          23       0.47      0.50      0.48        14\n",
      "          24       1.00      0.94      0.97        16\n",
      "          25       0.40      0.86      0.55         7\n",
      "          26       0.80      0.71      0.75        17\n",
      "          27       0.80      0.75      0.77        16\n",
      "          28       1.00      1.00      1.00        15\n",
      "          29       0.80      0.67      0.73        18\n",
      "          30       0.60      0.69      0.64        13\n",
      "          31       0.67      0.91      0.77        11\n",
      "          32       0.87      0.81      0.84        16\n",
      "          33       0.87      0.93      0.90        14\n",
      "          34       1.00      1.00      1.00        15\n",
      "          35       0.93      0.74      0.82        19\n",
      "          36       0.73      0.69      0.71        16\n",
      "          37       0.87      0.87      0.87        15\n",
      "          38       0.53      0.53      0.53        15\n",
      "          39       0.40      0.86      0.55         7\n",
      "          40       0.67      0.56      0.61        18\n",
      "          41       0.67      0.77      0.71        13\n",
      "          42       0.93      0.93      0.93        15\n",
      "          43       0.87      0.93      0.90        14\n",
      "          44       0.93      0.88      0.90        16\n",
      "          45       0.87      0.65      0.74        20\n",
      "          46       0.73      0.50      0.59        22\n",
      "          47       0.93      0.93      0.93        15\n",
      "          48       0.67      0.59      0.62        17\n",
      "          49       1.00      0.88      0.94        17\n",
      "          50       0.53      0.40      0.46        20\n",
      "          51       0.80      0.75      0.77        16\n",
      "          52       0.67      0.71      0.69        14\n",
      "          53       0.33      0.50      0.40        10\n",
      "          54       1.00      1.00      1.00        15\n",
      "          55       0.13      0.29      0.18         7\n",
      "          56       0.60      0.75      0.67        12\n",
      "          57       0.60      0.53      0.56        17\n",
      "          58       1.00      1.00      1.00        15\n",
      "          59       0.60      0.64      0.62        14\n",
      "          60       0.47      0.88      0.61         8\n",
      "          61       0.87      0.87      0.87        15\n",
      "          62       0.80      0.80      0.80        15\n",
      "          63       0.73      0.79      0.76        14\n",
      "          64       0.87      0.62      0.72        21\n",
      "          65       0.67      0.71      0.69        14\n",
      "          66       0.93      0.88      0.90        16\n",
      "          67       1.00      0.94      0.97        16\n",
      "          68       0.93      0.82      0.87        17\n",
      "          69       0.73      0.58      0.65        19\n",
      "          70       0.80      0.63      0.71        19\n",
      "          71       0.20      0.38      0.26         8\n",
      "          72       0.93      0.93      0.93        15\n",
      "          73       0.87      1.00      0.93        13\n",
      "          74       0.93      0.67      0.78        21\n",
      "          75       0.80      0.67      0.73        18\n",
      "          76       0.87      0.93      0.90        14\n",
      "          77       1.00      0.88      0.94        17\n",
      "          78       0.47      0.58      0.52        12\n",
      "          79       0.67      0.71      0.69        14\n",
      "          80       0.33      0.45      0.38        11\n",
      "          81       0.53      0.62      0.57        13\n",
      "          82       0.67      0.59      0.62        17\n",
      "          83       0.20      0.17      0.18        18\n",
      "          84       0.47      0.58      0.52        12\n",
      "          85       0.53      0.50      0.52        16\n",
      "          86       0.93      0.93      0.93        15\n",
      "          87       0.80      0.52      0.63        23\n",
      "          88       0.80      0.80      0.80        15\n",
      "          89       0.60      0.60      0.60        15\n",
      "          90       0.93      0.93      0.93        15\n",
      "          91       0.87      0.72      0.79        18\n",
      "          92       0.67      0.77      0.71        13\n",
      "          93       0.33      0.50      0.40        10\n",
      "          94       0.40      0.75      0.52         8\n",
      "          95       0.80      0.92      0.86        13\n",
      "          96       0.33      0.71      0.45         7\n",
      "          97       0.87      0.65      0.74        20\n",
      "          98       0.67      0.77      0.71        13\n",
      "          99       0.60      0.69      0.64        13\n",
      "         100       1.00      0.62      0.77        24\n",
      "         101       0.60      0.50      0.55        18\n",
      "         102       0.53      0.57      0.55        14\n",
      "         103       0.93      0.74      0.82        19\n",
      "         104       0.93      0.93      0.93        15\n",
      "         105       0.53      0.89      0.67         9\n",
      "         106       0.93      0.82      0.87        17\n",
      "         107       0.60      0.60      0.60        15\n",
      "         108       0.47      0.64      0.54        11\n",
      "         109       0.80      0.75      0.77        16\n",
      "         110       0.80      1.00      0.89        12\n",
      "         111       0.87      0.93      0.90        14\n",
      "         112       1.00      0.83      0.91        18\n",
      "         113       0.73      0.61      0.67        18\n",
      "         114       0.93      1.00      0.97        14\n",
      "         115       0.73      0.85      0.79        13\n",
      "         116       0.80      0.52      0.63        23\n",
      "         117       0.80      0.86      0.83        14\n",
      "         118       0.87      0.93      0.90        14\n",
      "         119       0.87      0.93      0.90        14\n",
      "         120       0.47      0.70      0.56        10\n",
      "         121       1.00      0.94      0.97        16\n",
      "         122       0.67      0.83      0.74        12\n",
      "         123       0.87      0.68      0.76        19\n",
      "         124       0.80      0.80      0.80        15\n",
      "         125       0.80      0.67      0.73        18\n",
      "         126       1.00      1.00      1.00        15\n",
      "         127       0.87      0.81      0.84        16\n",
      "         128       0.93      0.82      0.87        17\n",
      "         129       0.67      0.77      0.71        13\n",
      "         130       0.93      0.74      0.82        19\n",
      "         131       0.27      0.36      0.31        11\n",
      "         132       0.47      0.44      0.45        16\n",
      "         133       0.53      0.42      0.47        19\n",
      "         134       0.13      0.33      0.19         6\n",
      "         135       0.33      0.50      0.40        10\n",
      "         136       0.73      0.73      0.73        15\n",
      "         137       0.93      0.88      0.90        16\n",
      "         138       0.93      1.00      0.97        14\n",
      "         139       0.93      0.88      0.90        16\n",
      "         140       1.00      0.83      0.91        18\n",
      "         141       0.60      0.75      0.67        12\n",
      "         142       0.33      0.83      0.48         6\n",
      "         143       0.67      0.77      0.71        13\n",
      "         144       0.40      0.60      0.48        10\n",
      "         145       0.93      1.00      0.97        14\n",
      "         146       1.00      0.88      0.94        17\n",
      "         147       0.27      0.36      0.31        11\n",
      "         148       1.00      0.88      0.94        17\n",
      "         149       0.80      0.60      0.69        20\n",
      "         150       1.00      0.88      0.94        17\n",
      "         151       0.73      0.79      0.76        14\n",
      "         152       0.93      0.61      0.74        23\n",
      "         153       0.47      0.58      0.52        12\n",
      "         154       0.80      0.71      0.75        17\n",
      "         155       0.87      0.65      0.74        20\n",
      "         156       1.00      0.94      0.97        16\n",
      "         157       1.00      1.00      1.00        15\n",
      "         158       0.80      0.75      0.77        16\n",
      "         159       1.00      0.88      0.94        17\n",
      "         160       0.53      0.89      0.67         9\n",
      "         161       0.87      1.00      0.93        13\n",
      "         162       1.00      1.00      1.00        15\n",
      "         163       0.93      0.93      0.93        15\n",
      "         164       0.93      0.58      0.72        24\n",
      "         165       1.00      0.79      0.88        19\n",
      "         166       0.73      0.69      0.71        16\n",
      "         167       1.00      1.00      1.00        15\n",
      "         168       0.93      0.93      0.93        15\n",
      "         169       0.40      0.55      0.46        11\n",
      "         170       0.93      0.93      0.93        15\n",
      "         171       0.93      0.93      0.93        15\n",
      "         172       0.40      0.67      0.50         9\n",
      "         173       0.93      1.00      0.97        14\n",
      "         174       0.93      0.78      0.85        18\n",
      "         175       0.33      0.50      0.40        10\n",
      "         176       0.73      0.85      0.79        13\n",
      "         177       0.93      1.00      0.97        14\n",
      "         178       0.80      0.75      0.77        16\n",
      "         179       0.53      0.35      0.42        23\n",
      "         180       1.00      1.00      1.00        15\n",
      "         181       1.00      1.00      1.00        15\n",
      "         182       1.00      0.79      0.88        19\n",
      "         183       1.00      0.79      0.88        19\n",
      "         184       0.73      0.55      0.63        20\n",
      "         185       0.80      0.63      0.71        19\n",
      "         186       0.73      1.00      0.85        11\n",
      "         187       0.73      0.73      0.73        15\n",
      "         188       0.47      0.64      0.54        11\n",
      "         189       0.93      0.70      0.80        20\n",
      "         190       1.00      0.94      0.97        16\n",
      "         191       0.60      0.64      0.62        14\n",
      "         192       0.73      1.00      0.85        11\n",
      "         193       0.93      1.00      0.97        14\n",
      "         194       0.93      0.88      0.90        16\n",
      "         195       1.00      1.00      1.00        15\n",
      "         196       0.87      0.93      0.90        14\n",
      "         197       0.93      0.93      0.93        15\n",
      "         198       0.80      0.80      0.80        15\n",
      "         199       0.13      0.12      0.13        16\n",
      "         200       0.73      0.48      0.58        23\n",
      "         201       1.00      0.94      0.97        16\n",
      "         202       0.47      0.70      0.56        10\n",
      "         203       0.33      0.45      0.38        11\n",
      "         204       0.40      0.43      0.41        14\n",
      "         205       0.73      0.73      0.73        15\n",
      "         206       0.80      0.60      0.69        20\n",
      "         207       0.93      0.93      0.93        15\n",
      "         208       0.87      1.00      0.93        13\n",
      "         209       0.33      0.50      0.40        10\n",
      "         210       0.60      0.53      0.56        17\n",
      "         211       0.73      0.69      0.71        16\n",
      "         212       0.87      0.87      0.87        15\n",
      "         213       0.93      1.00      0.97        14\n",
      "         214       0.93      0.70      0.80        20\n",
      "         215       0.13      0.29      0.18         7\n",
      "         216       0.87      0.81      0.84        16\n",
      "         217       0.53      0.73      0.62        11\n",
      "         218       0.60      0.82      0.69        11\n",
      "         219       0.67      0.48      0.56        21\n",
      "         220       0.80      0.60      0.69        20\n",
      "         221       0.53      0.80      0.64        10\n",
      "         222       1.00      0.79      0.88        19\n",
      "         223       0.33      0.56      0.42         9\n",
      "         224       0.87      0.87      0.87        15\n",
      "         225       0.73      0.73      0.73        15\n",
      "         226       0.67      0.56      0.61        18\n",
      "         227       0.93      0.93      0.93        15\n",
      "         228       1.00      0.88      0.94        17\n",
      "         229       1.00      1.00      1.00        15\n",
      "         230       1.00      0.88      0.94        17\n",
      "         231       1.00      0.83      0.91        18\n",
      "         232       0.87      1.00      0.93        13\n",
      "         233       1.00      0.75      0.86        20\n",
      "         234       1.00      0.88      0.94        17\n",
      "         235       0.13      0.29      0.18         7\n",
      "         236       1.00      1.00      1.00        15\n",
      "         237       1.00      1.00      1.00        15\n",
      "         238       0.87      0.87      0.87        15\n",
      "         239       0.33      0.50      0.40        10\n",
      "         240       0.80      0.86      0.83        14\n",
      "         241       0.47      0.39      0.42        18\n",
      "         242       1.00      1.00      1.00        15\n",
      "         243       1.00      0.88      0.94        17\n",
      "\n",
      "    accuracy                           0.75      3660\n",
      "   macro avg       0.75      0.75      0.74      3660\n",
      "weighted avg       0.78      0.75      0.76      3660\n",
      "\n"
     ]
    },
    {
     "name": "stderr",
     "output_type": "stream",
     "text": [
      "/anaconda/envs/azureml_py38_PT_TF/lib/python3.8/site-packages/sklearn/metrics/_classification.py:1344: UndefinedMetricWarning: Recall and F-score are ill-defined and being set to 0.0 in labels with no true samples. Use `zero_division` parameter to control this behavior.\n",
      "  _warn_prf(average, modifier, msg_start, len(result))\n",
      "/anaconda/envs/azureml_py38_PT_TF/lib/python3.8/site-packages/sklearn/metrics/_classification.py:1344: UndefinedMetricWarning: Recall and F-score are ill-defined and being set to 0.0 in labels with no true samples. Use `zero_division` parameter to control this behavior.\n",
      "  _warn_prf(average, modifier, msg_start, len(result))\n",
      "/anaconda/envs/azureml_py38_PT_TF/lib/python3.8/site-packages/sklearn/metrics/_classification.py:1344: UndefinedMetricWarning: Recall and F-score are ill-defined and being set to 0.0 in labels with no true samples. Use `zero_division` parameter to control this behavior.\n",
      "  _warn_prf(average, modifier, msg_start, len(result))\n"
     ]
    }
   ],
   "source": [
    "print('classifiation report')\n",
    "print(classification_report(test_pred, test_df['label'].to_numpy()))"
   ]
  },
  {
   "cell_type": "code",
   "execution_count": 33,
   "metadata": {},
   "outputs": [
    {
     "ename": "NameError",
     "evalue": "name 'new_labels_dict' is not defined",
     "output_type": "error",
     "traceback": [
      "\u001b[0;31m---------------------------------------------------------------------------\u001b[0m",
      "\u001b[0;31mNameError\u001b[0m                                 Traceback (most recent call last)",
      "Cell \u001b[0;32mIn[33], line 1\u001b[0m\n\u001b[0;32m----> 1\u001b[0m \u001b[43mnew_labels_dict\u001b[49m\n",
      "\u001b[0;31mNameError\u001b[0m: name 'new_labels_dict' is not defined"
     ]
    }
   ],
   "source": [
    "new_labels_dict"
   ]
  },
  {
   "cell_type": "code",
   "execution_count": null,
   "metadata": {},
   "outputs": [],
   "source": []
  }
 ],
 "metadata": {
  "kernelspec": {
   "display_name": "Python 3.8 - Pytorch and Tensorflow",
   "language": "python",
   "name": "python38-azureml-pt-tf"
  },
  "language_info": {
   "codemirror_mode": {
    "name": "ipython",
    "version": 3
   },
   "file_extension": ".py",
   "mimetype": "text/x-python",
   "name": "python",
   "nbconvert_exporter": "python",
   "pygments_lexer": "ipython3",
   "version": "3.9.19"
  }
 },
 "nbformat": 4,
 "nbformat_minor": 4
}
